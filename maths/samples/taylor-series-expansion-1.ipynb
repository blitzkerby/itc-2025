{
 "cells": [
  {
   "cell_type": "markdown",
   "metadata": {},
   "source": [
    "Here are the Taylor series expansions for the requested functions, all centered around $x_0 = 0$ (Maclaurin series):\n",
    "\n",
    "---\n",
    "\n",
    "1. **For $e^x$:**\n",
    "   $$ \n",
    "   e^x = 1 + x + \\frac{x^2}{2!} + \\frac{x^3}{3!} + \\ldots + \\frac{x^n}{n!} + \\ldots \n",
    "   $$\n",
    "   Or in summation notation:\n",
    "   $$\n",
    "   e^x = \\sum_{k=0}^\\infty \\frac{x^k}{k!}\n",
    "   $$\n",
    "\n",
    "---\n",
    "\n",
    "2. **For $\\frac{1}{1-x}$ (valid for $|x| < 1$):**\n",
    "   $$ \n",
    "   \\frac{1}{1-x} = 1 + x + x^2 + x^3 + \\ldots + x^n + \\ldots \n",
    "   $$\n",
    "   Or in summation notation:\n",
    "   $$\n",
    "   \\frac{1}{1-x} = \\sum_{k=0}^\\infty x^k\n",
    "   $$\n",
    "\n",
    "---\n",
    "\n",
    "3. **For $\\sin(x)$:**\n",
    "   $$ \n",
    "   \\sin(x) = x - \\frac{x^3}{3!} + \\frac{x^5}{5!} - \\frac{x^7}{7!} + \\ldots + (-1)^n \\frac{x^{2n+1}}{(2n+1)!} + \\ldots \n",
    "   $$\n",
    "   Or in summation notation:\n",
    "   $$\n",
    "   \\sin(x) = \\sum_{n=0}^\\infty (-1)^n \\frac{x^{2n+1}}{(2n+1)!}\n",
    "   $$\n",
    "\n",
    "---\n",
    "\n",
    "4. **For $\\cos(x)$:**\n",
    "   $$ \n",
    "   \\cos(x) = 1 - \\frac{x^2}{2!} + \\frac{x^4}{4!} - \\frac{x^6}{6!} + \\ldots + (-1)^n \\frac{x^{2n}}{(2n)!} + \\ldots \n",
    "   $$\n",
    "   Or in summation notation:\n",
    "   $$\n",
    "   \\cos(x) = \\sum_{n=0}^\\infty (-1)^n \\frac{x^{2n}}{(2n)!}\n",
    "   $$\n",
    "\n",
    "---\n",
    "\n",
    "Let me know if you'd like to see applications or derivations of these expansions!"
   ]
  }
 ],
 "metadata": {
  "language_info": {
   "name": "python"
  }
 },
 "nbformat": 4,
 "nbformat_minor": 2
}
