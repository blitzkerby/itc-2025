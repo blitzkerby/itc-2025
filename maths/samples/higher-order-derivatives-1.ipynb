{
 "cells": [
  {
   "cell_type": "markdown",
   "metadata": {},
   "source": [
    "**Proof for A**"
   ]
  },
  {
   "cell_type": "markdown",
   "metadata": {},
   "source": [
    "We have by induction"
   ]
  },
  {
   "cell_type": "markdown",
   "metadata": {},
   "source": [
    "- Case, $n = 1$\n",
    "\n",
    "$$\n",
    "    (\\sin x)' = \\cos x = \\sin(x+ \\frac{\\pi}{2})\n",
    "$$"
   ]
  },
  {
   "cell_type": "markdown",
   "metadata": {},
   "source": [
    "- Suppose that it is true for $n \\isin \\N$, that n, \n",
    "\n",
    "    $(\\sin x)^{(n)} = \\sin(x + \\frac{n\\pi}{2})$"
   ]
  },
  {
   "cell_type": "markdown",
   "metadata": {},
   "source": [
    "- Then\n",
    "$$\n",
    "    (\\sin x)^{(n+1)} = ((\\sin x)^n)' = (\\sin(x + \\frac{n\\pi}{2}))\n",
    "$$"
   ]
  },
  {
   "cell_type": "markdown",
   "metadata": {},
   "source": [
    "---"
   ]
  },
  {
   "cell_type": "markdown",
   "metadata": {},
   "source": [
    "**(B) Prove the following**"
   ]
  },
  {
   "cell_type": "markdown",
   "metadata": {},
   "source": [
    "$$\n",
    "    (\\cos x) ^ {(n)}\n",
    "        =\n",
    "    \\left(\n",
    "        \\cos \\left(\n",
    "            x + \\frac\n",
    "                {n \\pi}\n",
    "                {2}\n",
    "            \\right)\n",
    "    \\right)\n",
    "$$"
   ]
  },
  {
   "cell_type": "markdown",
   "metadata": {},
   "source": [
    "**(C) Prove the following:**\n",
    "\n",
    "$$\n",
    "    \\left(\n",
    "        \\frac\n",
    "            {1}\n",
    "            {a-x}\n",
    "    \\right)^{(n)} \n",
    "        =    \n",
    "        \\frac\n",
    "            {n!}\n",
    "            {(a-x)^{(n+1)}}\n",
    "$$"
   ]
  },
  {
   "cell_type": "markdown",
   "metadata": {},
   "source": [
    "We prove by induction,"
   ]
  },
  {
   "cell_type": "markdown",
   "metadata": {},
   "source": [
    "(1) n = 1\n",
    "\n",
    "$$\n",
    "    (\\frac\n",
    "        {1}\n",
    "        {a - x})' =\n",
    "    \\frac\n",
    "        {1}\n",
    "        {(a-x)^2} =\n",
    "    \\frac\n",
    "        {1}\n",
    "        {}\n",
    "$$"
   ]
  },
  {
   "cell_type": "markdown",
   "metadata": {},
   "source": [
    "**(D) Prove the following:**\n",
    "\n",
    "$$\n",
    "    \\left(\n",
    "        \\frac\n",
    "            {1}\n",
    "            {a+x}\n",
    "    \\right)^{(n)} \n",
    "        =    \n",
    "        \\frac\n",
    "            {(-1)^n n!}\n",
    "            {(a-x)^{(n+1)}}\n",
    "$$"
   ]
  }
 ],
 "metadata": {
  "language_info": {
   "name": "python"
  }
 },
 "nbformat": 4,
 "nbformat_minor": 2
}
