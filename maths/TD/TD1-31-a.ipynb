{
 "cells": [
  {
   "cell_type": "markdown",
   "metadata": {},
   "source": [
    "### **TD-1-31**\n",
    "---"
   ]
  },
  {
   "cell_type": "markdown",
   "metadata": {},
   "source": [
    "Prove the following:\n",
    "\n",
    "$$\n",
    "1 + C_n^3 + C_n^6 + \\ldots = \\frac{1}{3} \\left( 2^n + 2 \\cos \\left( \\frac{n \\pi}{3} \\right) \\right).\n",
    "$$\n"
   ]
  },
  {
   "cell_type": "markdown",
   "metadata": {},
   "source": [
    "#### **Proof**"
   ]
  },
  {
   "cell_type": "markdown",
   "metadata": {},
   "source": [
    "Recall the binomial theorem,\n",
    "\n",
    "$$\n",
    "(1 + x)^n = \\sum_{r=0}^n C_n^r x^r.\n",
    "$$\n"
   ]
  },
  {
   "cell_type": "markdown",
   "metadata": {},
   "source": [
    "Consider the cube roots of unity, $\\omega = e^{\\frac{2\\pi}{3}i}$, which satisfies:\n",
    "\n",
    "$$\n",
    "\\begin{cases}\n",
    "    \\omega_0 = 1 \\\\\n",
    "    \\omega_1 = \\omega \\\\\n",
    "    \\omega_2 = \\omega^2\n",
    "\\end{cases}\n",
    "\n",
    "\\rArr\n",
    "\n",
    "1 + \\omega + \\omega^2 = 0\n",
    "$$"
   ]
  },
  {
   "cell_type": "markdown",
   "metadata": {},
   "source": [
    "Thus, all following roots are given by: \n",
    "\n",
    "$$\n",
    "\\begin{align*}\n",
    "    z_k \n",
    "        &= \\omega^k \\\\\n",
    "        &= e^{\n",
    "                \\frac\n",
    "                    {2\\pi k}\n",
    "                    {3}i\n",
    "                }\n",
    "\n",
    "    \\quad (k \\isin {0,1,2})\n",
    "\\end{align*}\n",
    "$$"
   ]
  },
  {
   "cell_type": "markdown",
   "metadata": {},
   "source": [
    "All generally for all $k \\isin \\N$:\n",
    "\n",
    "\n",
    "$$\n",
    "\\begin{align*}\n",
    "    z_k \n",
    "        &= \\omega^r \\\\\n",
    "        &= e^{\n",
    "                \\frac\n",
    "                    {2\\pi r}\n",
    "                    {3}i\n",
    "                }\n",
    "\n",
    "    \\quad \n",
    "        (r \\equiv k \\mod 3)\n",
    "\\end{align*}\n",
    "$$"
   ]
  },
  {
   "cell_type": "markdown",
   "metadata": {},
   "source": [
    "We set $x = \\omega = e^{\\frac{2\\pi}{3}i}$, thus the sum becomes:"
   ]
  },
  {
   "cell_type": "markdown",
   "metadata": {},
   "source": [
    "$$\n",
    "\\begin{align*}\n",
    "    (1 + \\omega)^n \n",
    "        &= \n",
    "            \\sum_{r=0}^n C_n^r \\omega^r \\\\ \\\\\n",
    "        &= \n",
    "            \\binom{n}{0} \\omega^0 + \\binom{n}{1} \\omega^1 + \\ldots + \\binom{n}{n} \\omega^n.\n",
    "\\end{align*}\n",
    "$$"
   ]
  },
  {
   "cell_type": "markdown",
   "metadata": {},
   "source": [
    "We may rewrite it for clarity:"
   ]
  },
  {
   "cell_type": "markdown",
   "metadata": {},
   "source": [
    "$$\n",
    "\\begin{align*}\n",
    "    S = \\text{ }\n",
    "        & \\omega^0 \\\\\n",
    "        & \\omega^1 \\\\\n",
    "        & \\omega^2 \n",
    "\\end{align*}\n",
    "$$"
   ]
  },
  {
   "cell_type": "markdown",
   "metadata": {},
   "source": [
    "1. Start with the binomial expansion:\n",
    "   $$\n",
    "   (1 + x)^n = \\sum_{r=0}^n \\binom{n}{r} x^r.\n",
    "   $$\n",
    "\n",
    "2. Replace \\(x\\) with 1, \\(\\omega\\), and \\(\\omega^2\\), then add:\n",
    "   $$\n",
    "   f(x) = (1+1)^n + (1+\\omega)^n + (1+\\omega^2)^n.\n",
    "   $$\n",
    "\n",
    "3. Simplify contributions:\n",
    "   $$\n",
    "   (1+1)^n = 2^n,\n",
    "   $$\n",
    "   $$\n",
    "   (1+\\omega)^n = \\sum_{r=0}^n \\binom{n}{r} \\omega^r,\n",
    "   $$\n",
    "   $$\n",
    "   (1+\\omega^2)^n = \\sum_{r=0}^n \\binom{n}{r} (\\omega^2)^r.\n",
    "   $$\n",
    "\n",
    "4. Use root of unity property:\n",
    "   $$\n",
    "   \\omega^3 = 1, \\quad 1 + \\omega + \\omega^2 = 0,\n",
    "   $$\n",
    "   $$\n",
    "   \\omega^r + (\\omega^2)^r = \n",
    "   \\begin{cases} \n",
    "   2, & r \\mod 3 = 0 \\\\ \n",
    "   0, & r \\mod 3 \\neq 0 \n",
    "   \\end{cases}.\n",
    "   $$\n",
    "\n",
    "5. Average the result to filter \\(r \\mod 3 = 0\\):\n",
    "   $$\n",
    "   S = \\frac{1}{3} \\left( (1+1)^n + (1+\\omega)^n + (1+\\omega^2)^n \\right).\n",
    "   $$\n"
   ]
  },
  {
   "cell_type": "markdown",
   "metadata": {},
   "source": [
    "6. Expand the filtered sum:\n",
    "   From the formula:\n",
    "   $$\n",
    "   S = \\frac{1}{3} \\left( (1+1)^n + (1+\\omega)^n + (1+\\omega^2)^n \\right),\n",
    "   $$\n",
    "   expand each term using the binomial theorem:\n",
    "   $$\n",
    "   (1+\\omega)^n = \\binom{n}{0} + \\binom{n}{1}\\omega + \\binom{n}{2}\\omega^2 + \\ldots + \\binom{n}{n}\\omega^n,\n",
    "   $$\n",
    "   and similarly for \\( (1+\\omega^2)^n \\).\n",
    "\n",
    "7. Combine contributions from all three terms:\n",
    "   Gather terms from \\( (1+1)^n \\), \\( (1+\\omega)^n \\), and \\( (1+\\omega^2)^n \\), noting that:\n",
    "   $$\n",
    "   \\omega^3 = 1 \\quad \\text{and} \\quad 1 + \\omega + \\omega^2 = 0.\n",
    "   $$\n",
    "\n",
    "8. Isolate \\( r \\mod 3 = 0 \\) terms:\n",
    "   Use the periodicity of roots of unity:\n",
    "   $$\n",
    "   \\omega^r + (\\omega^2)^r = \n",
    "   \\begin{cases} \n",
    "   2, & r \\mod 3 = 0, \\\\\n",
    "   0, & r \\mod 3 \\neq 0.\n",
    "   \\end{cases}\n",
    "   $$\n",
    "   This ensures only the \\( r \\mod 3 = 0 \\) terms remain.\n",
    "\n",
    "9. Simplify the result:\n",
    "   Substitute the filtered terms into the expression for \\( S \\), yielding:\n",
    "   $$\n",
    "   S = \\frac{1}{3} \\left( 2^n + 2 \\cos\\left(\\frac{n \\pi}{3}\\right) \\right).\n",
    "   $$\n"
   ]
  },
  {
   "cell_type": "markdown",
   "metadata": {},
   "source": []
  }
 ],
 "metadata": {
  "language_info": {
   "name": "python"
  }
 },
 "nbformat": 4,
 "nbformat_minor": 2
}
