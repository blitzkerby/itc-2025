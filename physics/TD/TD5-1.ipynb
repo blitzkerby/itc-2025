{
 "cells": [
  {
   "cell_type": "markdown",
   "metadata": {},
   "source": [
    "## **TD5 - 1**"
   ]
  },
  {
   "cell_type": "markdown",
   "metadata": {},
   "source": [
    "---"
   ]
  },
  {
   "cell_type": "markdown",
   "metadata": {},
   "source": [
    "<center>\n",
    "    <img src=\"../images/TD5-01.PNG\">\n",
    "</center>"
   ]
  },
  {
   "cell_type": "markdown",
   "metadata": {},
   "source": [
    "A block has the total mass of $m_A = 80 \\text{ kg} $ that which is strapped to a pulley system and pulled down by some force $F$ as shown in the image above. Assume an ideal system, where the friction and mass of the pulleys itself is negligble. Find the force $F$ if we know that the block $A$ moves with an acceleration of $a = 0.5 \\text{ } m/s^2$."
   ]
  },
  {
   "cell_type": "markdown",
   "metadata": {},
   "source": [
    "---"
   ]
  },
  {
   "cell_type": "markdown",
   "metadata": {},
   "source": [
    "### **Solution**"
   ]
  },
  {
   "cell_type": "markdown",
   "metadata": {},
   "source": [
    "#### **Step 1: Analyze the forces acting on the block**\n",
    "The block experiences two forces:\n",
    "1. Gravitational force, $ F_g = m_A g $, pulling it downward, where $ g = 9.8 \\, \\text{m/s}^2 $ (acceleration due to gravity).\n",
    "2. Tension in the rope, $ T $, which is influenced by the applied force $ F $.\n",
    "\n",
    "The net force $ F_{\\text{net}} $ acting on the block is responsible for its acceleration $ a $. According to Newton's second law:\n",
    "$$\n",
    "F_{\\text{net}} = m_A a\n",
    "$$\n",
    "\n",
    "#### **Step 2: Write the equation for net force**\n",
    "The net force is the difference between the downward gravitational force and the upward tension:\n",
    "$$\n",
    "F_{\\text{net}} = F_g - T\n",
    "$$\n",
    "Substituting $ F_{\\text{net}} = m_A a $ and $ F_g = m_A g $, we have:\n",
    "$$\n",
    "m_A a = m_A g - T\n",
    "$$\n",
    "Rearranging for $ T $:\n",
    "$$\n",
    "T = m_A g - m_A a\n",
    "$$\n",
    "\n",
    "#### **Step 3: Relate the tension to the applied force $ F $**\n",
    "For an ideal pulley system, the tension $ T $ in the rope is directly related to the applied force $ F $. Since the system is ideal, we assume no energy loss. Therefore:\n",
    "$$\n",
    "F = T\n",
    "$$\n",
    "\n",
    "Substituting $ T = m_A g - m_A a $:\n",
    "$$\n",
    "F = m_A g - m_A a\n",
    "$$\n",
    "\n",
    "#### **Step 4: Plug in the values**\n",
    "Given:\n",
    "- $ m_A = 80 \\, \\text{kg} $,\n",
    "- $ g = 9.8 \\, \\text{m/s}^2 $,\n",
    "- $ a = 0.5 \\, \\text{m/s}^2 $,\n",
    "\n",
    "Substitute these values into the equation:\n",
    "$$\n",
    "F = (80)(9.8) - (80)(0.5)\n",
    "$$\n",
    "\n",
    "#### **Step 5: Perform the calculations**\n",
    "$$\n",
    "F = 784 - 40\n",
    "$$\n",
    "$$\n",
    "F = 744 \\, \\text{N}\n",
    "$$\n",
    "\n",
    "#### **Final Answer:**\n",
    "The applied force $ F $ required is **744 Newtons**.\n"
   ]
  },
  {
   "cell_type": "markdown",
   "metadata": {},
   "source": []
  }
 ],
 "metadata": {
  "language_info": {
   "name": "python"
  }
 },
 "nbformat": 4,
 "nbformat_minor": 2
}
