{
 "cells": [
  {
   "cell_type": "markdown",
   "metadata": {},
   "source": [
    "##### **Sample Problem 2/3**"
   ]
  },
  {
   "cell_type": "markdown",
   "metadata": {},
   "source": [
    "The spring-mounted slider moves in the horizontal guide with negligible friction and has a velocity $v_0$ in the $s$-direction as it crosses the mid-position where $s = 0$ and $t = 0$. The two springs together exert a retarding force to the motion of the slider, which gives it an acceleration proportional to the displacement but oppositely directed and equal to $a = -k^2 s$, where $k$ is constant. (The constant is arbitrarily squared for later convenience in the form of the expressions.) \n",
    "\n",
    "Determine the expressions for the displacement $s$ and velocity $v$ as functions of the time $t$.\n"
   ]
  },
  {
   "cell_type": "markdown",
   "metadata": {},
   "source": [
    "---"
   ]
  },
  {
   "cell_type": "markdown",
   "metadata": {},
   "source": [
    "Since the acceleration is specified in terms of the displacement, the differential relation $v \\, dv = a \\, ds$ may be integrated. Thus,"
   ]
  },
  {
   "cell_type": "markdown",
   "metadata": {},
   "source": [
    "$$\n",
    "    \\left[  \\int v \\, dv = \\int a \\, ds  \\right]\n",
    "$$"
   ]
  },
  {
   "cell_type": "markdown",
   "metadata": {},
   "source": [
    "$$\\begin{align}\n",
    "    \\int v \\, dv \n",
    "    = \\int {-k^2 s} \\, ds + {C_1}\n",
    "\\end{align}$$"
   ]
  },
  {
   "cell_type": "markdown",
   "metadata": {},
   "source": [
    "<center> or </center>"
   ]
  },
  {
   "cell_type": "markdown",
   "metadata": {},
   "source": [
    "$$\n",
    "\\frac{v^2}{2} \n",
    "    = -\\frac{k^2 s^2}{2} + C_1\n",
    "$$"
   ]
  },
  {
   "cell_type": "markdown",
   "metadata": {},
   "source": [
    "When $s=0$, $v=v_0$, so that $C_1 = \\dfrac{v_0^2}{2}$ and the velocity becomes:"
   ]
  },
  {
   "cell_type": "markdown",
   "metadata": {},
   "source": [
    "$$\n",
    "\\begin{align}\n",
    "    \\frac{v^2}{2} \n",
    "        &=  -\\frac{k^2 s^2}{2} + {C_1} \\\\ \\\\\n",
    "        &=  {C_1} \\\\ \\\\\n",
    "\n",
    "    &= +\\sqrt{ v_0^2 - k^2 s^2}\n",
    "\\end{align}\n",
    "$$"
   ]
  },
  {
   "cell_type": "markdown",
   "metadata": {},
   "source": []
  }
 ],
 "metadata": {
  "language_info": {
   "name": "python"
  }
 },
 "nbformat": 4,
 "nbformat_minor": 2
}
