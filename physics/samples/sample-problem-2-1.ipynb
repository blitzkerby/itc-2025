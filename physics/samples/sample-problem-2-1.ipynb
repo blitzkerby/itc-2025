{
 "cells": [
  {
   "cell_type": "markdown",
   "metadata": {},
   "source": [
    "##### **Sample Problem 2/1**"
   ]
  },
  {
   "cell_type": "markdown",
   "metadata": {},
   "source": [
    "The position coordinate of a particle which is confined to move along a straight line is given by $s = 2t^3 - 24t + 6$, where $s$ is measured in meters from a convenient origin and $t$ is in seconds. Determine:"
   ]
  },
  {
   "cell_type": "markdown",
   "metadata": {},
   "source": [
    "**(a) the time required for the particle to reach a velocity of 72 m/s from its initial condition at $t = 0$,**"
   ]
  },
  {
   "cell_type": "markdown",
   "metadata": {},
   "source": [
    "---"
   ]
  },
  {
   "cell_type": "markdown",
   "metadata": {},
   "source": [
    "We have, "
   ]
  },
  {
   "cell_type": "markdown",
   "metadata": {},
   "source": [
    "$$\\begin{align}\n",
    "    s \n",
    "        &= 2t^3 - 24t + 6\n",
    "        \\\\ \\\\\n",
    "    v = \\dfrac{ds}{dt} \n",
    "        &= 6t^2 - 24\n",
    "        \\\\ \\\\\n",
    "    a = \\dfrac{d^2s}{dt^2}\n",
    "        &= 12t\n",
    "\\end{align}$$"
   ]
  },
  {
   "cell_type": "markdown",
   "metadata": {},
   "source": [
    "From the equation of velocity, we may substitute $v = 72 \\text{ m/s}$"
   ]
  },
  {
   "cell_type": "markdown",
   "metadata": {},
   "source": [
    "\\begin{align}\n",
    "    v &= 6t^2 - 24 \\\\ \\\\\n",
    "    72 &= 6t^2 - 24 \\\\ \\\\\n",
    "    72 + 24 &= 6t^2 \\\\ \\\\\n",
    "    96 &= 6t^2 \\\\ \\\\\n",
    "    \\frac{96}{6} &= t^2 \\\\ \\\\\n",
    "    16 &= t^2 \\\\ \\\\\n",
    "    t &= \\pm 4\n",
    "\\end{align}\n"
   ]
  },
  {
   "cell_type": "markdown",
   "metadata": {},
   "source": [
    "Thus, the desired result is,\n",
    "\n",
    "$$ \n",
    "    t = 4s\n",
    "$$"
   ]
  },
  {
   "cell_type": "markdown",
   "metadata": {},
   "source": [
    "**(b) Determine the acceleration of the particle when $v = 30 \\text{ m/s}$**"
   ]
  },
  {
   "cell_type": "markdown",
   "metadata": {},
   "source": [
    "---"
   ]
  },
  {
   "cell_type": "markdown",
   "metadata": {},
   "source": [
    "We may solve for the time, when $v=30 \\text{ m/s}$,"
   ]
  },
  {
   "cell_type": "markdown",
   "metadata": {},
   "source": [
    "\\begin{align}\n",
    "    v &= 6t^2 - 24 \\\\ \\\\\n",
    "    30 &= 6t^2 - 24 \\\\ \\\\\n",
    "    30 + 24 &= 6t^2 \\\\ \\\\\n",
    "    54 &= 6t^2 \\\\ \\\\\n",
    "    \\frac{54}{6} &= t^2 \\\\ \\\\\n",
    "    9 &= t^2 \\\\ \\\\\n",
    "    t &= \\pm 3\n",
    "\\end{align}\n"
   ]
  },
  {
   "cell_type": "markdown",
   "metadata": {},
   "source": [
    "So it's at:\n",
    "\n",
    " $t = 3s$"
   ]
  },
  {
   "cell_type": "markdown",
   "metadata": {},
   "source": [
    "From the equation of acceleration, we may find the actual acceleration at $t = 3s$,"
   ]
  },
  {
   "cell_type": "markdown",
   "metadata": {},
   "source": [
    "\\begin{align}\n",
    "    a &= 12t \\\\ \\\\\n",
    "    a &= 12(3) \\\\ \\\\\n",
    "    a &= 36 \\, \\text{m/s}^2\n",
    "\\end{align}\n"
   ]
  },
  {
   "cell_type": "markdown",
   "metadata": {},
   "source": [
    "**(c) Determine the net displacement of the particle during the interval from $t : (1s \\to 4s)$**"
   ]
  },
  {
   "cell_type": "markdown",
   "metadata": {},
   "source": [
    "---"
   ]
  },
  {
   "cell_type": "markdown",
   "metadata": {},
   "source": [
    "The net displacement is defined as:"
   ]
  },
  {
   "cell_type": "markdown",
   "metadata": {},
   "source": [
    "$$\\begin{align}\n",
    "\n",
    "    \\Delta s &= s_4 - s_1 \\\\\n",
    "\n",
    "\\end{align}$$"
   ]
  },
  {
   "cell_type": "markdown",
   "metadata": {},
   "source": [
    "Where,"
   ]
  },
  {
   "cell_type": "markdown",
   "metadata": {},
   "source": [
    "$$\\begin{cases}\n",
    "    s(1) = 2(1)^3 - 24(1) + 6 = -16 \\text{ m} \\\\\n",
    "    s(4) = 2(4)^3 - 24(4) + 6 = 38 \\text{ m}\n",
    "\\end{cases}$$"
   ]
  },
  {
   "cell_type": "markdown",
   "metadata": {},
   "source": [
    "So"
   ]
  },
  {
   "cell_type": "markdown",
   "metadata": {},
   "source": [
    "$$\\begin{align}\n",
    "\n",
    "    \\Delta s \n",
    "        &= s_4 - s_1 \\\\\n",
    "        &= 38 - (-16) \\\\\n",
    "        &= 54 \\text{ m}\n",
    "\\end{align}$$"
   ]
  },
  {
   "cell_type": "markdown",
   "metadata": {},
   "source": []
  }
 ],
 "metadata": {
  "language_info": {
   "name": "python"
  }
 },
 "nbformat": 4,
 "nbformat_minor": 2
}
