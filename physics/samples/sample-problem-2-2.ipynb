{
 "cells": [
  {
   "cell_type": "markdown",
   "metadata": {},
   "source": [
    "##### **Sample Problem 2/2**"
   ]
  },
  {
   "cell_type": "markdown",
   "metadata": {},
   "source": [
    "A particle moves along the x-axis with an initial velocity $v_x = \\text{ 50 ft/sec}$ at the origin when $t = 0$. For the first 4 seconds it has no acceleration, and thereafter it is acted on by a retarding force which gives it a constant acceleration $a_x = -10 \\text{ ft/sec²}$. \n",
    "\n",
    "Calculate the velocity and the x-coordinate of the particle for the conditions of $t = 8 \\text{ sec}$ and $t = 12 \\text{ sec}$ and find the maximum positive x-coordinate reached by the particle.\n"
   ]
  },
  {
   "cell_type": "markdown",
   "metadata": {},
   "source": [
    "---"
   ]
  },
  {
   "cell_type": "markdown",
   "metadata": {},
   "source": [
    "**(+) Velocity**"
   ]
  },
  {
   "cell_type": "markdown",
   "metadata": {},
   "source": [
    "The velocity of the particle after $t = 4 \\text{ sec}$ is computed from:"
   ]
  },
  {
   "cell_type": "markdown",
   "metadata": {},
   "source": [
    "$$\n",
    "\\left[ \\int dv = \\int a dt \\right] \\\\\n",
    "$$"
   ]
  },
  {
   "cell_type": "markdown",
   "metadata": {},
   "source": [
    "$$\n",
    "\\begin{align}\n",
    "    \\int_{v_0}^{v_x} d{v_x} \n",
    "        &= -10 \\int_{t_0}^{t} d{t}\n",
    "\\end{align}\n",
    "$$"
   ]
  },
  {
   "cell_type": "markdown",
   "metadata": {},
   "source": [
    "Where, \n",
    "$$\n",
    "\\begin{cases}\n",
    "    {v_0} = 50 \\text{ ft/sec}\\\\  \n",
    "    {t_0} = 4s \n",
    "\\end{cases}\n",
    "$$\n",
    "\n",
    "(there's a small detailed to be noted here: the speed remains at $50 \\text{ ft/sec}$ because there's no acceleration until $t_0 = 4 s$)"
   ]
  },
  {
   "cell_type": "markdown",
   "metadata": {},
   "source": [
    "So,"
   ]
  },
  {
   "cell_type": "markdown",
   "metadata": {},
   "source": [
    "$$\n",
    "\\begin{align}\n",
    "    \\int_{50}^{v_x} d{v_x} \n",
    "        &= -10 \\int_{4}^{t} d{t} \\\\ \\\\\n",
    "\n",
    "    {v_x} - 50 \n",
    "        &= -10(t-4) \\\\ \\\\\n",
    "\n",
    "    {v_x} \n",
    "        &= 90 -10t \\\\\n",
    "\\end{align}\n",
    "$$"
   ]
  },
  {
   "cell_type": "markdown",
   "metadata": {},
   "source": [
    "Thus,"
   ]
  },
  {
   "cell_type": "markdown",
   "metadata": {},
   "source": [
    "- $v_x(8) = 10 \\text{ ft/sec}$\n",
    "\n",
    "- $v_x(12) = -30 \\text{ ft/sec}$"
   ]
  },
  {
   "cell_type": "markdown",
   "metadata": {},
   "source": [
    "**(+) x-coordinate**"
   ]
  },
  {
   "cell_type": "markdown",
   "metadata": {},
   "source": [
    "- The x coordinate of the particle at any time greater than 4 seconds is the distance traveled during the first 4 seconds plus the distance traveled after the discontinuity in acceleration occured."
   ]
  },
  {
   "cell_type": "markdown",
   "metadata": {},
   "source": [
    "$$\n",
    "    \\left[  \\int ds = \\int v dt  \\right]\n",
    "$$"
   ]
  },
  {
   "cell_type": "markdown",
   "metadata": {},
   "source": [
    "$$\n",
    "\\begin{align}\n",
    "    x \n",
    "        &= {x_0} + {\\int_{4}^{t} {v_x} dt} \\\\ \\\\\n",
    "        &= 50(4) + {\\int_{4}^{t}{(90 - 10t)}dt} \\\\ \\\\\n",
    "        &= 200 + \\left[ 90t - 5t^2 \\right]_{4}^{t} \\\\ \\\\\n",
    "        &= -5t^2 + 90t -80\n",
    "\\end{align}\n",
    "$$"
   ]
  },
  {
   "cell_type": "markdown",
   "metadata": {},
   "source": [
    "Thus,"
   ]
  },
  {
   "cell_type": "markdown",
   "metadata": {},
   "source": [
    "- $x$"
   ]
  }
 ],
 "metadata": {
  "language_info": {
   "name": "python"
  }
 },
 "nbformat": 4,
 "nbformat_minor": 2
}
