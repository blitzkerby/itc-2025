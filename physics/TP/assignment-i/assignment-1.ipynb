{
 "cells": [
  {
   "cell_type": "markdown",
   "metadata": {},
   "source": [
    "## **I. Introduction**\n",
    "\n",
    "In this experiment, we are experimentally determining $g$ (gravitational acceleration). We use the following equation: \n",
    "\n",
    "$$\n",
    "    T =\n",
    "        2\\pi \n",
    "        \\sqrt{\n",
    "            \\frac\n",
    "                {L}\n",
    "                {g}\n",
    "        }\n",
    "$$\n",
    "\n",
    "where,\n",
    "\n",
    "- $T$ is the peroid (time for one full swing)\n",
    "- $L$ is the length of the string\n",
    "- $g$ is the gravitational acceleration"
   ]
  },
  {
   "cell_type": "markdown",
   "metadata": {},
   "source": [
    "### **1) Objective**\n",
    "\n",
    "To determine the acceleration due to gravity (g) by measuring the period of a simple pendulum at different string lengths and analyzing the relationship between $T^2$ and $L$."
   ]
  },
  {
   "cell_type": "markdown",
   "metadata": {},
   "source": [
    "### **2) Materials**\n",
    "\n",
    "- A pendulum (a small mass attached to a string)\n",
    "- A meter stick\n",
    "- A stopwatch\n",
    "- A clamp stand or fixed support\n",
    "- A protractor (optional, for small-angle approximation)"
   ]
  },
  {
   "cell_type": "markdown",
   "metadata": {},
   "source": [
    "### **3) Procedure**"
   ]
  },
  {
   "cell_type": "markdown",
   "metadata": {},
   "source": [
    "**- Setup the Pendulum**\n",
    "\n",
    "1. Attach the string to a fixed support so that the pendulum can swing freely.\n",
    "\n",
    "2. Measure the initial length of the string ($L$), from the pivot point to the center of mass of the pendulum bob.\n"
   ]
  },
  {
   "cell_type": "markdown",
   "metadata": {},
   "source": [
    "**- Measure the Period for Different Lengths:**\n",
    "\n",
    "1. Pull the pendulum to an angle ($30^\\circ$) to approximate simple harmonic motion.\n",
    "\n",
    "2. Release the pendulum gently, without applying any push.\n",
    "\n",
    "3. Start the stopwatch as the pendulum crosses a reference point.\n",
    "\n",
    "4. Count 10 complete oscillations, stopping the stopwatch after the 10th swing.\n",
    "\n",
    "5. Record the total time ($t_{10}$) and compute the period ($T$) using: $$ T = \\frac{t_{10}}{10} $$\n",
    "\n",
    "6. Repeat this process at least three times for each string length to calculate the average $T$."
   ]
  },
  {
   "cell_type": "markdown",
   "metadata": {},
   "source": [
    "**- Repeat for Different String Lengths:**\n",
    "\n",
    "1. Shorten the string to the next desired length (e.g., 0.90 m, 0.80 m, etc.).\n",
    "\n",
    "2. Repeat the timing procedure for each new string length."
   ]
  },
  {
   "cell_type": "markdown",
   "metadata": {},
   "source": [
    "## **II. Data Analysis**"
   ]
  },
  {
   "cell_type": "markdown",
   "metadata": {},
   "source": [
    "### **1) Data Manipulation** "
   ]
  },
  {
   "cell_type": "code",
   "execution_count": 27,
   "metadata": {},
   "outputs": [],
   "source": [
    "import pandas as pd\n",
    "\n",
    "# Importing CSV under data\n",
    "data = pd.read_csv(\"./pendulum.csv\")"
   ]
  },
  {
   "cell_type": "markdown",
   "metadata": {},
   "source": [
    "**Data Table**"
   ]
  },
  {
   "cell_type": "code",
   "execution_count": 28,
   "metadata": {},
   "outputs": [
    {
     "name": "stdout",
     "output_type": "stream",
     "text": [
      "  L_1 (m)    t_10  t_10.1  t_10.2  t_10.3  t_10.4    t_avg      t_0     t_0^2\n",
      "0     0.6   15.03   15.43   15.45   15.23   15.56  15.3400  1.53400  2.353156\n",
      "1     0.7   15.65   15.89   15.70   16.57   16.91  16.1440  1.61440  2.606287\n",
      "2     0.8  16.889   17.99   17.70   17.15   17.77  17.4998  1.74998  3.062430\n",
      "3     0.9   18.99   19.01   18.78   18.86   19.11  18.9500  1.89500  3.591025\n",
      "4       1   19.54   20.11   19.43   19.67   19.99  19.7480  1.97480  3.899835\n",
      "5     1.1   21.03   21.13   20.93   20.85   20.78  20.9440  2.09440  4.386511\n",
      "6     1.2   22.01   22.00   22.16   22.09   22.08  22.0680  2.20680  4.869966\n"
     ]
    }
   ],
   "source": [
    "# Table 1.0 : Data Table\n",
    "table_1 = data.iloc[:7]\n",
    "\n",
    "print(table_1)"
   ]
  },
  {
   "cell_type": "markdown",
   "metadata": {},
   "source": [
    "**String Length by Periodicity Squared**"
   ]
  },
  {
   "cell_type": "code",
   "execution_count": 29,
   "metadata": {},
   "outputs": [
    {
     "name": "stdout",
     "output_type": "stream",
     "text": [
      "  L_1 (m)     t_0^2\n",
      "0     0.6  2.353156\n",
      "1     0.7  2.606287\n",
      "2     0.8  3.062430\n",
      "3     0.9  3.591025\n",
      "4       1  3.899835\n",
      "5     1.1  4.386511\n",
      "6     1.2  4.869966\n"
     ]
    }
   ],
   "source": [
    "# Table 2.0 : String length vs. Periodicity Squared\n",
    "table_2 = data[[\"L_1 (m)\", \"t_0^2\"]][:7]\n",
    "\n",
    "print(table_2)"
   ]
  },
  {
   "cell_type": "code",
   "execution_count": 30,
   "metadata": {},
   "outputs": [
    {
     "data": {
      "image/png": "[encoded data removed]",
      "text/plain": [
       "<Figure size 640x480 with 1 Axes>"
      ]
     },
     "metadata": {},
     "output_type": "display_data"
    }
   ],
   "source": [
    "import matplotlib.pyplot as plt\n",
    "\n",
    "# Plotting a scatter table with Table_2 with proper column names\n",
    "plt.scatter(table_2.iloc[:, 0], \n",
    "         table_2.iloc[:, 1],\n",
    "         marker=\"o\",\n",
    "         linestyle=\"-\",\n",
    "         color=\"royalblue\")\n",
    "\n",
    "# Adding labels and title\n",
    "plt.xlabel('L  (m)')\n",
    "plt.ylabel('(T₀)²  (s²)')\n",
    "plt.title('String length vs. Periodicity Squared')\n",
    "\n",
    "# Show the graph\n",
    "plt.show()"
   ]
  },
  {
   "cell_type": "markdown",
   "metadata": {},
   "source": [
    "### **2) Linear Regression**"
   ]
  },
  {
   "cell_type": "markdown",
   "metadata": {},
   "source": [
    "We may use basic linear regression to find the _best-fitting_ line, which can be immediately done with the help of `np.polyfit(x, y, 1)`. \n",
    "\n",
    "In Excel, the same operation can be applied via: `=SLOPE(x-range, y-range)`."
   ]
  },
  {
   "cell_type": "markdown",
   "metadata": {},
   "source": [
    "#### **Defining our Trend line**"
   ]
  },
  {
   "cell_type": "markdown",
   "metadata": {},
   "source": [
    "The general equation of a straight line is:\n",
    "\n",
    "$$\n",
    "    y = ax + b\n",
    "$$\n",
    "\n",
    "where,"
   ]
  },
  {
   "cell_type": "markdown",
   "metadata": {},
   "source": [
    "\n",
    "- $y$ is the dependent variable (the one we are trying to predict or explain).  \n",
    " \n"
   ]
  },
  {
   "cell_type": "markdown",
   "metadata": {},
   "source": [
    "- $x$ is the independent variable (the one we can control or measure). \n"
   ]
  },
  {
   "cell_type": "markdown",
   "metadata": {},
   "source": [
    "- $a$ is the slope of the line, which tells us how much $y$ changes when $x$ changes.  "
   ]
  },
  {
   "cell_type": "markdown",
   "metadata": {},
   "source": [
    "- $b$ is the $y$-intercept, the value of $y$ when $x = 0$. "
   ]
  },
  {
   "cell_type": "markdown",
   "metadata": {},
   "source": [
    "#### **Context to our experiment**"
   ]
  },
  {
   "cell_type": "markdown",
   "metadata": {},
   "source": [
    "We may shed light as what each variable represents in the context of our experiment."
   ]
  },
  {
   "cell_type": "markdown",
   "metadata": {},
   "source": [
    "Modifying our equation,"
   ]
  },
  {
   "cell_type": "markdown",
   "metadata": {},
   "source": [
    "$$\n",
    "    T =\n",
    "        2\\pi \n",
    "        \\sqrt{\n",
    "            \\frac\n",
    "                {L}\n",
    "                {g}\n",
    "        }\n",
    "\n",
    "    \\quad\n",
    "    \\rArr\n",
    "    \\quad\n",
    "\n",
    "    {T_0}^2 = \n",
    "    \\frac\n",
    "        {4 \\pi ^2}\n",
    "        {g} \n",
    "    L\n",
    "$$"
   ]
  },
  {
   "cell_type": "markdown",
   "metadata": {},
   "source": [
    "This is in the form $y = mx + b$, where:"
   ]
  },
  {
   "cell_type": "markdown",
   "metadata": {},
   "source": [
    "- $y = {T_0}^2$  "
   ]
  },
  {
   "cell_type": "markdown",
   "metadata": {},
   "source": [
    "- $a = \\frac{4\\pi^2}{g}$ (the slope) "
   ]
  },
  {
   "cell_type": "markdown",
   "metadata": {},
   "source": [
    "- $x = L$    "
   ]
  },
  {
   "cell_type": "markdown",
   "metadata": {},
   "source": [
    "- $b = 0$ (the $y$-intercept, which we expect to be $0$ because the pendulum should have zero period at zero length). "
   ]
  },
  {
   "cell_type": "code",
   "execution_count": null,
   "metadata": {},
   "outputs": [],
   "source": []
  },
  {
   "cell_type": "code",
   "execution_count": 31,
   "metadata": {},
   "outputs": [
    {
     "name": "stdout",
     "output_type": "stream",
     "text": [
      "Slope: 4.267244199999998\n",
      "Intercept: -0.30206106571428193\n"
     ]
    }
   ],
   "source": [
    "import numpy as np\n",
    "import pandas as pd\n",
    "\n",
    "# Define x,y\n",
    "x = table_2.iloc[:,0]\n",
    "y = table_2.iloc[:,1]\n",
    "\n",
    "# Convert columns to numeric\n",
    "x = pd.to_numeric(x, errors=\"coerce\")\n",
    "y = pd.to_numeric(y, errors=\"coerce\")\n",
    "\n",
    "# slope (a) and intercept (b)\n",
    "slope, intercept = np.polyfit(x,y,1)\n",
    "\n",
    "print(f\"Slope: {slope}\")\n",
    "print(f\"Intercept: {intercept}\")"
   ]
  },
  {
   "cell_type": "markdown",
   "metadata": {},
   "source": [
    "Thus,\n",
    "\n",
    "$$\n",
    "    \\boxed{\n",
    "        a = 4.267 \n",
    "    }\n",
    "$$\n",
    "\n",
    "$$\n",
    "    \\boxed{\n",
    "        b = -0.302\n",
    "    }\n",
    "$$"
   ]
  },
  {
   "cell_type": "markdown",
   "metadata": {},
   "source": [
    "#### **Graphing**"
   ]
  },
  {
   "cell_type": "code",
   "execution_count": 32,
   "metadata": {},
   "outputs": [],
   "source": [
    "# Defining the trend_line\n",
    "\n",
    "trend_line = slope * x + intercept"
   ]
  },
  {
   "cell_type": "code",
   "execution_count": 33,
   "metadata": {},
   "outputs": [
    {
     "data": {
      "image/png": "[encoded data removed]",
      "text/plain": [
       "<Figure size 640x480 with 1 Axes>"
      ]
     },
     "metadata": {},
     "output_type": "display_data"
    }
   ],
   "source": [
    "# Creating the scatter plot\n",
    "plt.scatter(x, y, \n",
    "            color='royalblue',\n",
    "            marker='o',\n",
    "            label='Data Points')\n",
    "\n",
    "# Plotting the line of best fit\n",
    "plt.plot(x, trend_line,\n",
    "         color=\"crimson\",\n",
    "         linestyle=\"--\",\n",
    "         label=\"Trend Line\")\n",
    "\n",
    "# Adding the equation of the line of best fit\n",
    "equation = f\"y = ({slope:.2f}...)x + ({intercept:.2f}...)\"\n",
    "plt.text(x.iloc[0] + 0.05, \n",
    "         trend_line.iloc[0] + 0.05,\n",
    "         equation,\n",
    "         fontsize=12,\n",
    "         color=\"crimson\")\n",
    "\n",
    "# Adding labels and title\n",
    "plt.xlabel('L  (m)')\n",
    "plt.ylabel('(T₀)²  (s²)')\n",
    "plt.title('String length vs. Periodicity Squared')\n",
    "\n",
    "# Show the legend\n",
    "plt.legend()\n",
    "\n",
    "# Show the graph\n",
    "plt.show()"
   ]
  },
  {
   "cell_type": "markdown",
   "metadata": {},
   "source": [
    "#### **Coefficient of determination (R-squared) $R^2$**"
   ]
  },
  {
   "cell_type": "markdown",
   "metadata": {},
   "source": [
    "> In statistics, the coefficient of determination measures how well a regression model fits the data. It represents, _the proportion of the variance in the dependent variable that is predictable from the independent variable(s)_."
   ]
  },
  {
   "cell_type": "markdown",
   "metadata": {},
   "source": [
    "***Interpretation***\n",
    "\n",
    "- R² = 1: Perfect fit (the model explains all variability in the data).\n",
    "\n",
    "- R² = 0: No fit (the model doesn't explain any variability in the data)."
   ]
  },
  {
   "cell_type": "markdown",
   "metadata": {},
   "source": [
    "\n",
    "$$\n",
    "    R^2 =\n",
    "        1 \n",
    "        - \\frac\n",
    "            {\n",
    "                \\sum{\n",
    "                    \\left( \n",
    "                        {y_\\text{observed}}\n",
    "                        - {y_\\text{predicted}}\n",
    "                    \\right)^2\n",
    "                }\n",
    "            }\n",
    "            {\n",
    "                \\sum{\n",
    "                    \\left( \n",
    "                        {y_\\text{observed}}\n",
    "                        - {\\bar{y}}\n",
    "                    \\right)^2\n",
    "                }\n",
    "            }\n",
    "\n",
    "$$\n",
    "\n",
    "Where,\n",
    "\n"
   ]
  },
  {
   "cell_type": "markdown",
   "metadata": {},
   "source": [
    "- $y_\\text{observed}$ are actual values of the data"
   ]
  },
  {
   "cell_type": "markdown",
   "metadata": {},
   "source": [
    "- $y_\\text{predicted}$ are values predicted by the lines of best fit\n"
   ]
  },
  {
   "cell_type": "markdown",
   "metadata": {},
   "source": [
    "- $\\bar y$ is the mean of the observed data"
   ]
  },
  {
   "cell_type": "markdown",
   "metadata": {},
   "source": [
    "We may calculate it manually as using NumPy's library. \n",
    "\n",
    "In Excel, you can use `=CORREL(X-range, Y-range)^2` or you can enable *show $R^2$* in the graphing options."
   ]
  },
  {
   "cell_type": "code",
   "execution_count": 34,
   "metadata": {},
   "outputs": [
    {
     "name": "stdout",
     "output_type": "stream",
     "text": [
      "R^2 = 0.99466899273353\n"
     ]
    }
   ],
   "source": [
    "# numerator\n",
    "residual_sum = np.sum(\n",
    "    (y - trend_line)**2\n",
    ")\n",
    "\n",
    "# denominator\n",
    "square_sum = np.sum(\n",
    "    (y - np.mean(y))**2\n",
    ")\n",
    "\n",
    "# calculating R^2\n",
    "r_squared = 1 - (residual_sum / square_sum)\n",
    "\n",
    "print(f\"R^2 = {r_squared}\")"
   ]
  },
  {
   "cell_type": "markdown",
   "metadata": {},
   "source": [
    "`square_sum` measures how far all the points are from the average value (mean). Think of it as asking \"How spread out is all of my data\"?"
   ]
  },
  {
   "cell_type": "markdown",
   "metadata": {},
   "source": [
    "\n",
    "`residual_sum` measures how far each point is from the line of best fit. Think of it as asking \"How far are my points from the line? There is error in my model.\""
   ]
  },
  {
   "cell_type": "markdown",
   "metadata": {},
   "source": [
    "Thus,\n",
    "\n",
    "$$\n",
    "    \\boxed{\n",
    "        R^2 = 99.467 \\%\n",
    "    }\n",
    "$$"
   ]
  },
  {
   "cell_type": "markdown",
   "metadata": {},
   "source": [
    "Since, $R^2 = 99.46 \\%$, **our data has very little errors**, with very little variation in the data.\n"
   ]
  },
  {
   "cell_type": "markdown",
   "metadata": {},
   "source": [
    "\n",
    "Meaning, model does an excellent job of predicting the data points, and there's only a very tiny amount of error or variance left unexplained. In the context of our experiment, our data is reliable for the next step of our procedure."
   ]
  },
  {
   "cell_type": "markdown",
   "metadata": {},
   "source": [
    "### **3) Standard error $\\sigma_a$**"
   ]
  },
  {
   "cell_type": "markdown",
   "metadata": {},
   "source": [
    "***Interpretation***\n",
    "\n",
    "- **Small $a$** (near 0) : The estimated slope is precise and closely represents the true slope. The estimate is reliable.\n",
    "\n",
    "- **Large $a$**\n",
    "The estimated slope has more uncertainty and may not represent the true slope well. The estimate is less reliable.\n",
    "\n",
    "- **Relative Size**\n",
    "If $a$ is much smaller than the slope, the estimate is considered more accurate. If $a$ is large relative to the slope, the estimate is less reliable.\n"
   ]
  },
  {
   "cell_type": "markdown",
   "metadata": {},
   "source": [
    "$$\n",
    "    {\\sigma_a} = \n",
    "        {a}\n",
    "        \\sqrt{\n",
    "            \\frac\n",
    "                {1 - R^2}\n",
    "                {R^2 (N-2)}\n",
    "        }\n",
    "$$\n",
    "\n",
    "where,"
   ]
  },
  {
   "cell_type": "markdown",
   "metadata": {},
   "source": [
    "- The standard error of the regression (or the slope estimate) \n",
    "\n",
    "    **$a = 4.267... \\quad$**"
   ]
  },
  {
   "cell_type": "markdown",
   "metadata": {},
   "source": [
    "- The coefficient of determination (which measures the goodness of fit) \n",
    "\n",
    "    **$R^2 = 0.994... \\quad$**"
   ]
  },
  {
   "cell_type": "markdown",
   "metadata": {},
   "source": [
    "\n",
    "- The sample size (number of data points) \n",
    "\n",
    "    **$N = 7$**\n",
    "\n"
   ]
  },
  {
   "cell_type": "code",
   "execution_count": 35,
   "metadata": {},
   "outputs": [
    {
     "name": "stdout",
     "output_type": "stream",
     "text": [
      "sigma_a = 0.13971011238675576\n"
     ]
    }
   ],
   "source": [
    "N = 7\n",
    "\n",
    "# Calculating a_a\n",
    "sigma_a = slope * np.sqrt((1 - r_squared) / (r_squared * (N - 2)))\n",
    "\n",
    "print(f\"sigma_a = {sigma_a}\")"
   ]
  },
  {
   "cell_type": "markdown",
   "metadata": {},
   "source": [
    "$$\n",
    "    \\sigma_a = 0.139...\n",
    "$$"
   ]
  },
  {
   "cell_type": "markdown",
   "metadata": {},
   "source": [
    "*Therefore, our slope closely represents the real slope.*"
   ]
  },
  {
   "cell_type": "markdown",
   "metadata": {},
   "source": [
    "### **4) Standard error of the mean**"
   ]
  },
  {
   "cell_type": "markdown",
   "metadata": {},
   "source": [
    "The standard error of the mean (SEM) is also referred to as aleatoric uncertainty in some contexts."
   ]
  },
  {
   "cell_type": "markdown",
   "metadata": {},
   "source": [
    "$$\n",
    "    \\Delta {a}_{ale} =\n",
    "        \\frac\n",
    "            {\\sigma_a}\n",
    "            {\\sqrt N} \n",
    "$$\n",
    "\n",
    "where,"
   ]
  },
  {
   "cell_type": "markdown",
   "metadata": {},
   "source": [
    "- This is the standard deviation of your measurements — it tells you how much the data points tend to deviate from the mean \n",
    "\n",
    "    $\\sigma_a$ = 0.139"
   ]
  },
  {
   "cell_type": "markdown",
   "metadata": {},
   "source": [
    "- The number of measurements or data points. \n",
    "\n",
    "    $N$ = 7\n"
   ]
  },
  {
   "cell_type": "markdown",
   "metadata": {},
   "source": [
    "- This represents the uncertainty due to random variations in the measurements — also known as aleatoric (random) uncertainty.\n",
    "\n",
    "    $\\Delta {a}_{ale} $\n"
   ]
  },
  {
   "cell_type": "code",
   "execution_count": 36,
   "metadata": {},
   "outputs": [
    {
     "name": "stdout",
     "output_type": "stream",
     "text": [
      "ale_a = 0.052805459002320046\n"
     ]
    }
   ],
   "source": [
    "# Calcluate a_ale \n",
    "\n",
    "ale_a = sigma_a / np.sqrt(N)\n",
    "print(f\"ale_a = {ale_a}\")"
   ]
  },
  {
   "cell_type": "markdown",
   "metadata": {},
   "source": [
    "$$\n",
    "    \\Delta {a}_{ale} = 0.0528\n",
    "$$"
   ]
  },
  {
   "cell_type": "markdown",
   "metadata": {},
   "source": [
    "Thus, rnadom errors have a minimal effect on our measurements, indicating *high precision* in the data."
   ]
  },
  {
   "cell_type": "markdown",
   "metadata": {},
   "source": [
    "### **5) Uncertainty in $g$**"
   ]
  },
  {
   "cell_type": "markdown",
   "metadata": {},
   "source": [
    "***Interpretation***"
   ]
  },
  {
   "cell_type": "markdown",
   "metadata": {},
   "source": [
    "- **Small $\\Delta g$**: Indicates that the uncertainty in $g$ (acceleration due to gravity) is very low, meaning the measurement of $g$ is highly precise.\n",
    "\n",
    "- **Larger $\\Delta g$**: Suggests more uncertainty in the measurement of $g$, meaning the data is less reliable or the measurements have a higher error margin.\n",
    "\n",
    "- **Direct relationship with $\\Delta a_{ale}$**: The value of $\\Delta g$ is directly influenced by the uncertainty in $a$ (distance or length), so if $\\Delta a_{ale}$ is small, $\\Delta g$ will also be small, indicating better precision in the experiment.\n"
   ]
  },
  {
   "cell_type": "markdown",
   "metadata": {},
   "source": [
    "$$\n",
    "    \\Delta g = \n",
    "        \\left|\n",
    "            \\frac\n",
    "                {\\delta g}\n",
    "                {\\delta a}\n",
    "            \\Delta {a}_{aleatoir}\n",
    "        \\right|\n",
    "$$"
   ]
  },
  {
   "cell_type": "markdown",
   "metadata": {},
   "source": [
    "where,"
   ]
  },
  {
   "cell_type": "markdown",
   "metadata": {},
   "source": [
    "$$\n",
    "    \\begin{align*}\n",
    "        g = \n",
    "            \\dfrac\n",
    "                {4 \\pi ^2}\n",
    "                {a}\n",
    "    \\end{align*}\n",
    "\n",
    "    \\begin{align*}\n",
    "        \\quad\n",
    "        \\rArr\n",
    "        \\quad\n",
    "    \\end{align*}\n",
    "\n",
    "    \\begin{align*}\n",
    "        \\frac\n",
    "            {\\delta g}\n",
    "            {\\delta a} \n",
    "            &= \n",
    "                - \\dfrac\n",
    "                    {4 \\pi^2}\n",
    "                    {a^{2}}\n",
    "    \\end{align*}\n",
    "$$"
   ]
  },
  {
   "cell_type": "markdown",
   "metadata": {},
   "source": [
    "meaning,"
   ]
  },
  {
   "cell_type": "markdown",
   "metadata": {},
   "source": [
    "$$\n",
    "\\begin{align*}\n",
    "    \\Delta g \n",
    "        &= \n",
    "            \\left|\n",
    "                \\frac\n",
    "                    {\\delta g}\n",
    "                    {\\delta a}\n",
    "                \\Delta {a}_{ale}\n",
    "            \\right|\n",
    "    \\\\ \\\\\n",
    "        &= \n",
    "            \\left|   -\n",
    "                \\frac\n",
    "                    {4 \\pi^2}\n",
    "                    {a^{2}}\n",
    "                \\cdot\n",
    "                \\Delta {a}_{ale}\n",
    "            \\right|\n",
    "\\end{align*}\n",
    "$$"
   ]
  },
  {
   "cell_type": "code",
   "execution_count": 37,
   "metadata": {},
   "outputs": [
    {
     "name": "stdout",
     "output_type": "stream",
     "text": [
      "D_g = 0.11448367580452858\n"
     ]
    }
   ],
   "source": [
    "# Calculate D_g\n",
    "D_g = np.abs((-4 * np.pi**2) * (ale_a) / (slope**2))\n",
    "\n",
    "print(f\"D_g = {D_g}\")"
   ]
  },
  {
   "cell_type": "markdown",
   "metadata": {},
   "source": [
    "$$\n",
    "    \\Delta {g} = 0.114...\n",
    "$$"
   ]
  },
  {
   "cell_type": "markdown",
   "metadata": {},
   "source": [
    "### **6) Determine $g$**"
   ]
  },
  {
   "cell_type": "markdown",
   "metadata": {},
   "source": [
    "Recall from our definition that,"
   ]
  },
  {
   "cell_type": "markdown",
   "metadata": {},
   "source": [
    "$$\n",
    "    a = \n",
    "        \\frac\n",
    "            {4\\pi^2}\n",
    "            {g}\n",
    "\n",
    "    \\quad\n",
    "    \\rArr\n",
    "    \\quad\n",
    "\n",
    "    g = \n",
    "        \\frac\n",
    "            {4\\pi^2}\n",
    "            {a}\n",
    "$$"
   ]
  },
  {
   "cell_type": "markdown",
   "metadata": {},
   "source": [
    "where, $a = 4.267... \\\\$"
   ]
  },
  {
   "cell_type": "code",
   "execution_count": 38,
   "metadata": {},
   "outputs": [
    {
     "name": "stdout",
     "output_type": "stream",
     "text": [
      "g = 9.251501848513252\n"
     ]
    }
   ],
   "source": [
    "import math\n",
    "\n",
    "# Calculating for g\n",
    "g = (4 * math.pi ** 2) / slope\n",
    "\n",
    "print(f\"g = {g}\")"
   ]
  },
  {
   "cell_type": "markdown",
   "metadata": {},
   "source": [
    "Thus, from our experiment:\n",
    "\n",
    "$$\n",
    "    \\boxed{\n",
    "        g = 9.251... \\quad m/s^2\n",
    "    }\n",
    "$$"
   ]
  },
  {
   "cell_type": "markdown",
   "metadata": {},
   "source": [
    "This, of course, is not the exact values of the Earth's acceleration of gravity, which is:\n",
    "\n",
    "$g = 9.80665 \\quad m/s^2$\n"
   ]
  },
  {
   "cell_type": "markdown",
   "metadata": {},
   "source": [
    "NIST. (n.d.). Standard gravity (gn). National Institute of Standards and Technology. Retrieved March 12, 2025, from https://physics.nist.gov/cgi-bin/cuu/Value?gn|search_for=gravity"
   ]
  },
  {
   "cell_type": "markdown",
   "metadata": {},
   "source": [
    "### **7) Find the Accuracy and Precision**"
   ]
  },
  {
   "cell_type": "markdown",
   "metadata": {},
   "source": [
    "$$\n",
    "    \\begin{align*}\n",
    "        & \\begin{cases}\n",
    "            \\text{Accuracy \\%} =\n",
    "                \\dfrac\n",
    "                    {\n",
    "                        \\left|\n",
    "                            g - 9.81\n",
    "                        \\right|\n",
    "                    }\n",
    "                    {\n",
    "                        9.81\n",
    "                    }\n",
    "                \\times\n",
    "                {100 \\%}\n",
    "            \\\\ \\\\ \n",
    "            \\text{Precision \\%} =\n",
    "                \\dfrac\n",
    "                    {\n",
    "                        \\Delta g\n",
    "                    }\n",
    "                    {\n",
    "                        g\n",
    "                    }\n",
    "                \\times\n",
    "                {100 \\%}\n",
    "        \\end{cases}\n",
    "    \\end{align*}\n",
    "$$"
   ]
  },
  {
   "cell_type": "code",
   "execution_count": null,
   "metadata": {},
   "outputs": [
    {
     "name": "stdout",
     "output_type": "stream",
     "text": [
      "accuracy = 0.056931513913022286\n",
      "precision = 0.012374604434946581\n"
     ]
    },
    {
     "ename": "",
     "evalue": "",
     "output_type": "error",
     "traceback": [
      "\u001b[1;31mThe Kernel crashed while executing code in the current cell or a previous cell. \n",
      "\u001b[1;31mPlease review the code in the cell(s) to identify a possible cause of the failure. \n",
      "\u001b[1;31mClick <a href='https://aka.ms/vscodeJupyterKernelCrash'>here</a> for more info. \n",
      "\u001b[1;31mView Jupyter <a href='command:jupyter.viewOutput'>log</a> for further details."
     ]
    }
   ],
   "source": [
    "# Calculating Accuracy\n",
    "accuracy = np.abs(g - 9.81) / 9.81 \n",
    "\n",
    "# Calculating Precision\n",
    "precision = D_g / g \n",
    "\n",
    "print(f\"accuracy = {accuracy}\")\n",
    "print(f\"precision = {precision}\")"
   ]
  },
  {
   "cell_type": "markdown",
   "metadata": {},
   "source": [
    "$$\n",
    "        \\begin{cases}\n",
    "            \\text{Accuracy \\%} = 5.693 \\%\n",
    "                \n",
    "            \\\\ \\\\ \n",
    "\n",
    "            \\text{Precision \\%} = 1.237 \\%\n",
    "        \n",
    "        \\end{cases}\n",
    "\n",
    "$$"
   ]
  },
  {
   "cell_type": "markdown",
   "metadata": {},
   "source": [
    "## **III. Conclusion**"
   ]
  },
  {
   "cell_type": "markdown",
   "metadata": {},
   "source": [
    "In this experiment, the value of acceleration due to gravity ($g$) was determined using experimental data, yielding a result of $g = 9.251 \\, \\text{m/s}^2$. This value is notably different from the accepted value of $g = 9.81 \\, \\text{m/s}^2$, indicating some level of **inaccuracy** in the measurements. The calculated accuracy of 5.693% reflects the deviation from the theoretical value, which could be attributed to experimental errors or limitations in the measurement setup.\n",
    "\n",
    "Despite this inaccuracy, the **precision** of the measurements is relatively high, with a precision value of 1.127%. This suggests that while the data may not be close to the true value of $g$, the repeated measurements are consistent with each other, indicating reliable measurement techniques in terms of variation.\n",
    "\n",
    "In summary, the experiment demonstrated good precision but lower accuracy, suggesting that factors such as systematic errors or imperfections in the experimental method might have contributed to the observed discrepancy from the theoretical value of $g$. Further refinement of the experimental setup and additional measurements could improve the accuracy of the results.\n"
   ]
  }
 ],
 "metadata": {
  "kernelspec": {
   "display_name": "base",
   "language": "python",
   "name": "python3"
  },
  "language_info": {
   "codemirror_mode": {
    "name": "ipython",
    "version": 3
   },
   "file_extension": ".py",
   "mimetype": "text/x-python",
   "name": "python",
   "nbconvert_exporter": "python",
   "pygments_lexer": "ipython3",
   "version": "3.11.7"
  }
 },
 "nbformat": 4,
 "nbformat_minor": 2
}
